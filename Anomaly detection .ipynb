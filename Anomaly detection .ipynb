{
 "cells": [
  {
   "cell_type": "markdown",
   "metadata": {},
   "source": [
    "### Project 6 - Anomaly Detection\n",
    "\n",
    "The dataset contains real time traffic data from the Twin Cities Metro area in Minnesota, collected by the Minnesota Department of Transportation. Included metrics include occupancy, speed, and travel time from specific sensors. This dataset has speeds for vehicles captured by different sensors. Here, we have considered the car speeding data only,\n",
    "\n",
    "The overall goal is to build one or more Build one or more anomaly detection models to determine the anomalies using the other columns as features\n",
    "\n",
    "The dataset can be found at: https://www.kaggle.com/boltzmannbrain/nab\n",
    "\n",
    "Reference: References used: 1) http://scikit-learn.org/stable/modules/generated/sklearn.neighbors.LocalOutlierFactor.html\n",
    "2) https://towardsdatascience.com/outlier-detection-with-isolation-forest-3d190448d45e\n",
    "3) youtube.com/watch?v=gCWBFyFTxVU\n",
    "\n",
    "We begin by analyzing the column features\n",
    "\n",
    "1) Analyzing data from the source datasets We import the required modules"
   ]
  },
  {
   "cell_type": "code",
   "execution_count": 170,
   "metadata": {},
   "outputs": [],
   "source": [
    "from pandas import DataFrame, read_csv\n",
    "\n",
    "import pandas as pd \n",
    "import seaborn as sns\n",
    "import numpy as np\n",
    "import matplotlib.pyplot as plt\n",
    "import pandas as pd \n",
    "import sys \n",
    "import math\n",
    "\n",
    "%matplotlib inline\n",
    "import matplotlib \n",
    "from sklearn.metrics import classification_report,accuracy_score\n",
    "from sklearn.ensemble import IsolationForest\n",
    "from sklearn import preprocessing\n",
    "from sklearn.neighbors import LocalOutlierFactor\n",
    "from sklearn.svm import OneClassSVM\n",
    "from scipy import stats"
   ]
  },
  {
   "cell_type": "markdown",
   "metadata": {},
   "source": [
    "To get familiar with the features column, we load the data form the source into the dataframe"
   ]
  },
  {
   "cell_type": "code",
   "execution_count": 171,
   "metadata": {},
   "outputs": [],
   "source": [
    "df_speed1=pd.read_csv('C:/Users/a687u420/OneDrive - The University of Kansas/KU courses/Fall 2020/Class Assignments/6 Anomaly Detection\\Data\\speed_6005.csv', low_memory = False)\n",
    "df_speed2=pd.read_csv('C:/Users/a687u420/OneDrive - The University of Kansas/KU courses/Fall 2020/Class Assignments/6 Anomaly Detection\\Data\\speed_7578.csv', low_memory = False)\n",
    "df_speed3=pd.read_csv('C:/Users/a687u420/OneDrive - The University of Kansas/KU courses/Fall 2020/Class Assignments/6 Anomaly Detection\\Data\\speed_t4013.csv', low_memory = False)\n"
   ]
  },
  {
   "cell_type": "markdown",
   "metadata": {},
   "source": [
    "Since we have three data sets on car speeding, we will link all the data files to to a new dataframe \"speed\""
   ]
  },
  {
   "cell_type": "code",
   "execution_count": 172,
   "metadata": {},
   "outputs": [
    {
     "data": {
      "text/plain": [
       "(6122, 2)"
      ]
     },
     "execution_count": 172,
     "metadata": {},
     "output_type": "execute_result"
    }
   ],
   "source": [
    "df_speed = pd.concat([df_speed1,df_speed2,df_speed3])\n",
    "df_speed.shape"
   ]
  },
  {
   "cell_type": "markdown",
   "metadata": {},
   "source": [
    "As observed we have around 6122 rows, and 2 columns namely \"timestamp\" and the \"value\""
   ]
  },
  {
   "cell_type": "code",
   "execution_count": 173,
   "metadata": {},
   "outputs": [
    {
     "data": {
      "text/plain": [
       "timestamp    object\n",
       "value         int64\n",
       "dtype: object"
      ]
     },
     "execution_count": 173,
     "metadata": {},
     "output_type": "execute_result"
    }
   ],
   "source": [
    "df_speed.dtypes"
   ]
  },
  {
   "cell_type": "code",
   "execution_count": 174,
   "metadata": {},
   "outputs": [
    {
     "data": {
      "text/html": [
       "<div>\n",
       "<style scoped>\n",
       "    .dataframe tbody tr th:only-of-type {\n",
       "        vertical-align: middle;\n",
       "    }\n",
       "\n",
       "    .dataframe tbody tr th {\n",
       "        vertical-align: top;\n",
       "    }\n",
       "\n",
       "    .dataframe thead th {\n",
       "        text-align: right;\n",
       "    }\n",
       "</style>\n",
       "<table border=\"1\" class=\"dataframe\">\n",
       "  <thead>\n",
       "    <tr style=\"text-align: right;\">\n",
       "      <th></th>\n",
       "      <th>timestamp</th>\n",
       "      <th>value</th>\n",
       "    </tr>\n",
       "  </thead>\n",
       "  <tbody>\n",
       "    <tr>\n",
       "      <th>0</th>\n",
       "      <td>2015-08-31 18:22:00</td>\n",
       "      <td>90</td>\n",
       "    </tr>\n",
       "    <tr>\n",
       "      <th>1</th>\n",
       "      <td>2015-08-31 18:32:00</td>\n",
       "      <td>80</td>\n",
       "    </tr>\n",
       "    <tr>\n",
       "      <th>2</th>\n",
       "      <td>2015-08-31 18:57:00</td>\n",
       "      <td>84</td>\n",
       "    </tr>\n",
       "    <tr>\n",
       "      <th>3</th>\n",
       "      <td>2015-08-31 19:07:00</td>\n",
       "      <td>94</td>\n",
       "    </tr>\n",
       "    <tr>\n",
       "      <th>4</th>\n",
       "      <td>2015-08-31 19:12:00</td>\n",
       "      <td>90</td>\n",
       "    </tr>\n",
       "    <tr>\n",
       "      <th>5</th>\n",
       "      <td>2015-08-31 19:17:00</td>\n",
       "      <td>91</td>\n",
       "    </tr>\n",
       "    <tr>\n",
       "      <th>6</th>\n",
       "      <td>2015-08-31 19:47:00</td>\n",
       "      <td>62</td>\n",
       "    </tr>\n",
       "    <tr>\n",
       "      <th>7</th>\n",
       "      <td>2015-08-31 20:12:00</td>\n",
       "      <td>96</td>\n",
       "    </tr>\n",
       "    <tr>\n",
       "      <th>8</th>\n",
       "      <td>2015-08-31 20:27:00</td>\n",
       "      <td>75</td>\n",
       "    </tr>\n",
       "    <tr>\n",
       "      <th>9</th>\n",
       "      <td>2015-08-31 20:42:00</td>\n",
       "      <td>84</td>\n",
       "    </tr>\n",
       "  </tbody>\n",
       "</table>\n",
       "</div>"
      ],
      "text/plain": [
       "             timestamp  value\n",
       "0  2015-08-31 18:22:00     90\n",
       "1  2015-08-31 18:32:00     80\n",
       "2  2015-08-31 18:57:00     84\n",
       "3  2015-08-31 19:07:00     94\n",
       "4  2015-08-31 19:12:00     90\n",
       "5  2015-08-31 19:17:00     91\n",
       "6  2015-08-31 19:47:00     62\n",
       "7  2015-08-31 20:12:00     96\n",
       "8  2015-08-31 20:27:00     75\n",
       "9  2015-08-31 20:42:00     84"
      ]
     },
     "execution_count": 174,
     "metadata": {},
     "output_type": "execute_result"
    }
   ],
   "source": [
    "df_speed.head(10)"
   ]
  },
  {
   "cell_type": "code",
   "execution_count": 175,
   "metadata": {},
   "outputs": [
    {
     "name": "stdout",
     "output_type": "stream",
     "text": [
      "<class 'pandas.core.frame.DataFrame'>\n",
      "Int64Index: 6122 entries, 0 to 2494\n",
      "Data columns (total 2 columns):\n",
      " #   Column     Non-Null Count  Dtype \n",
      "---  ------     --------------  ----- \n",
      " 0   timestamp  6122 non-null   object\n",
      " 1   value      6122 non-null   int64 \n",
      "dtypes: int64(1), object(1)\n",
      "memory usage: 143.5+ KB\n"
     ]
    }
   ],
   "source": [
    "df_speed.info()  # checking for any null values"
   ]
  },
  {
   "cell_type": "code",
   "execution_count": 176,
   "metadata": {},
   "outputs": [
    {
     "data": {
      "text/plain": [
       "timestamp    0\n",
       "value        0\n",
       "dtype: int64"
      ]
     },
     "execution_count": 176,
     "metadata": {},
     "output_type": "execute_result"
    }
   ],
   "source": [
    "df_speed[df_speed.isnull().any(axis=1)].count()"
   ]
  },
  {
   "cell_type": "markdown",
   "metadata": {},
   "source": [
    "We will print the data description by calcualting the mean values of all the count,"
   ]
  },
  {
   "cell_type": "code",
   "execution_count": 177,
   "metadata": {},
   "outputs": [
    {
     "name": "stdout",
     "output_type": "stream",
     "text": [
      "             value\n",
      "count  6122.000000\n",
      "mean     70.887128\n",
      "std      11.912310\n",
      "min       1.000000\n",
      "25%      63.000000\n",
      "50%      67.000000\n",
      "75%      80.000000\n",
      "max     109.000000\n"
     ]
    }
   ],
   "source": [
    "print(df_speed.describe())"
   ]
  },
  {
   "cell_type": "code",
   "execution_count": 178,
   "metadata": {
    "scrolled": true
   },
   "outputs": [
    {
     "name": "stdout",
     "output_type": "stream",
     "text": [
      "70.88712838941522\n"
     ]
    },
    {
     "data": {
      "text/plain": [
       "<matplotlib.axes._subplots.AxesSubplot at 0x155af4dab48>"
      ]
     },
     "execution_count": 178,
     "metadata": {},
     "output_type": "execute_result"
    },
    {
     "data": {
      "image/png": "[encoded data removed]",
      "text/plain": [
       "<Figure size 432x288 with 1 Axes>"
      ]
     },
     "metadata": {
      "needs_background": "light"
     },
     "output_type": "display_data"
    }
   ],
   "source": [
    "print(df_speed['value'].mean())\n",
    "df_speed['timestamp'] = pd.to_datetime(df_speed['timestamp'])\n",
    "df_speed.plot(x='timestamp', y='value')"
   ]
  },
  {
   "cell_type": "markdown",
   "metadata": {},
   "source": [
    "This plot does not provide a better idea, however, based on the data description we will classify the car speeding outlier ranges. As per US free highway state laws, driving above 80 mph is considered to be speeding, hence we will classify based on speeding (>80) and normal driving (<=80). Additionally, a group column will be created to group normal cases as 0 and speeding case as 1."
   ]
  },
  {
   "cell_type": "code",
   "execution_count": 179,
   "metadata": {},
   "outputs": [],
   "source": [
    "df_speed['group'] = df_speed['value']\n",
    "df_speed.loc[df_speed['value'] >80, 'group'] = 1\n",
    "df_speed.loc[df_speed['value'] <=80, 'group'] = 0"
   ]
  },
  {
   "cell_type": "code",
   "execution_count": 180,
   "metadata": {},
   "outputs": [
    {
     "data": {
      "text/html": [
       "<div>\n",
       "<style scoped>\n",
       "    .dataframe tbody tr th:only-of-type {\n",
       "        vertical-align: middle;\n",
       "    }\n",
       "\n",
       "    .dataframe tbody tr th {\n",
       "        vertical-align: top;\n",
       "    }\n",
       "\n",
       "    .dataframe thead th {\n",
       "        text-align: right;\n",
       "    }\n",
       "</style>\n",
       "<table border=\"1\" class=\"dataframe\">\n",
       "  <thead>\n",
       "    <tr style=\"text-align: right;\">\n",
       "      <th></th>\n",
       "      <th>timestamp</th>\n",
       "      <th>value</th>\n",
       "      <th>group</th>\n",
       "    </tr>\n",
       "  </thead>\n",
       "  <tbody>\n",
       "    <tr>\n",
       "      <th>0</th>\n",
       "      <td>2015-08-31 18:22:00</td>\n",
       "      <td>90</td>\n",
       "      <td>1</td>\n",
       "    </tr>\n",
       "    <tr>\n",
       "      <th>1</th>\n",
       "      <td>2015-08-31 18:32:00</td>\n",
       "      <td>80</td>\n",
       "      <td>0</td>\n",
       "    </tr>\n",
       "    <tr>\n",
       "      <th>2</th>\n",
       "      <td>2015-08-31 18:57:00</td>\n",
       "      <td>84</td>\n",
       "      <td>1</td>\n",
       "    </tr>\n",
       "    <tr>\n",
       "      <th>3</th>\n",
       "      <td>2015-08-31 19:07:00</td>\n",
       "      <td>94</td>\n",
       "      <td>1</td>\n",
       "    </tr>\n",
       "    <tr>\n",
       "      <th>4</th>\n",
       "      <td>2015-08-31 19:12:00</td>\n",
       "      <td>90</td>\n",
       "      <td>1</td>\n",
       "    </tr>\n",
       "    <tr>\n",
       "      <th>5</th>\n",
       "      <td>2015-08-31 19:17:00</td>\n",
       "      <td>91</td>\n",
       "      <td>1</td>\n",
       "    </tr>\n",
       "    <tr>\n",
       "      <th>6</th>\n",
       "      <td>2015-08-31 19:47:00</td>\n",
       "      <td>62</td>\n",
       "      <td>0</td>\n",
       "    </tr>\n",
       "    <tr>\n",
       "      <th>7</th>\n",
       "      <td>2015-08-31 20:12:00</td>\n",
       "      <td>96</td>\n",
       "      <td>1</td>\n",
       "    </tr>\n",
       "    <tr>\n",
       "      <th>8</th>\n",
       "      <td>2015-08-31 20:27:00</td>\n",
       "      <td>75</td>\n",
       "      <td>0</td>\n",
       "    </tr>\n",
       "    <tr>\n",
       "      <th>9</th>\n",
       "      <td>2015-08-31 20:42:00</td>\n",
       "      <td>84</td>\n",
       "      <td>1</td>\n",
       "    </tr>\n",
       "  </tbody>\n",
       "</table>\n",
       "</div>"
      ],
      "text/plain": [
       "            timestamp  value  group\n",
       "0 2015-08-31 18:22:00     90      1\n",
       "1 2015-08-31 18:32:00     80      0\n",
       "2 2015-08-31 18:57:00     84      1\n",
       "3 2015-08-31 19:07:00     94      1\n",
       "4 2015-08-31 19:12:00     90      1\n",
       "5 2015-08-31 19:17:00     91      1\n",
       "6 2015-08-31 19:47:00     62      0\n",
       "7 2015-08-31 20:12:00     96      1\n",
       "8 2015-08-31 20:27:00     75      0\n",
       "9 2015-08-31 20:42:00     84      1"
      ]
     },
     "execution_count": 180,
     "metadata": {},
     "output_type": "execute_result"
    }
   ],
   "source": [
    "df_speed.head(10)"
   ]
  },
  {
   "cell_type": "markdown",
   "metadata": {},
   "source": [
    "from the above dataset, we will found the number of normal and speeding cases, and calculate the percentage of the speeding cases. Also, mean speed calcuate is 70, with a min of 1 mph and max of 109 mph"
   ]
  },
  {
   "cell_type": "code",
   "execution_count": 181,
   "metadata": {},
   "outputs": [
    {
     "name": "stdout",
     "output_type": "stream",
     "text": [
      "Speeding cases: 1485\n",
      "Normal cases: 4637\n",
      "Fraction of speeding cases: 0.3202501617425059\n"
     ]
    }
   ],
   "source": [
    "speeding = df_speed[df_speed['group']==1]\n",
    "normal = df_speed[df_speed['group']==0]\n",
    "\n",
    "speeding_fraction = len(speeding)/float(len(normal)) # outlier fraction\n",
    "\n",
    "print('Speeding cases: {}'.format(len(speeding)))\n",
    "print('Normal cases: {}'.format(len(normal)))\n",
    "print('Fraction of speeding cases: {}'.format(speeding_fraction))"
   ]
  },
  {
   "cell_type": "markdown",
   "metadata": {},
   "source": [
    "from the total of 6122 cases, around 1485 cases are considered to be speeding and the speeding contribution is around 32%. We will viaulize this by histogram plots"
   ]
  },
  {
   "cell_type": "code",
   "execution_count": 182,
   "metadata": {},
   "outputs": [
    {
     "data": {
      "image/png": "[encoded data removed]",
      "text/plain": [
       "<Figure size 360x360 with 2 Axes>"
      ]
     },
     "metadata": {
      "needs_background": "light"
     },
     "output_type": "display_data"
    }
   ],
   "source": [
    "df_speed.hist(figsize=(5,5))\n",
    "plt.show()"
   ]
  },
  {
   "cell_type": "code",
   "execution_count": 183,
   "metadata": {},
   "outputs": [
    {
     "data": {
      "image/png": "[encoded data removed]",
      "text/plain": [
       "<Figure size 432x288 with 2 Axes>"
      ]
     },
     "metadata": {
      "needs_background": "light"
     },
     "output_type": "display_data"
    }
   ],
   "source": [
    "## We need to analyze more amount of information from the speed data\n",
    "#How different are the speeding values versus the occurences/frequency?\n",
    "\n",
    "LABELS = [\"Normal\", \"speeding\"]\n",
    "\n",
    "f, (ax1, ax2) = plt.subplots(2, 1, sharex=True)\n",
    "f.suptitle('speeding by class')\n",
    "bins = 50\n",
    "ax1.hist(speeding.value, bins = bins)\n",
    "ax1.set_title('speeding')\n",
    "ax2.hist(normal.value, bins = bins)\n",
    "ax2.set_title('Normal')\n",
    "plt.xlabel('mph')\n",
    "plt.ylabel('Frequency')\n",
    "plt.xlim((0, 110))\n",
    "plt.yscale('log')\n",
    "plt.show();"
   ]
  },
  {
   "cell_type": "markdown",
   "metadata": {},
   "source": [
    "Also, here the timestamp values provides no relevant meaning to understand the data analysis and outliers hence we will drop that particlaur column - Feature engineering"
   ]
  },
  {
   "cell_type": "markdown",
   "metadata": {},
   "source": [
    "We will create independent and dependent features for model testing\n",
    "Source : https://github.com/krishnaik06/Credit-Card-Fraudlent/blob/master/Anamoly%20Detection.ipynb"
   ]
  },
  {
   "cell_type": "code",
   "execution_count": 184,
   "metadata": {},
   "outputs": [
    {
     "name": "stdout",
     "output_type": "stream",
     "text": [
      "(6122, 1)\n",
      "(6122,)\n"
     ]
    }
   ],
   "source": [
    "#Create independent and Dependent Features\n",
    "columns = df_speed.columns.tolist()\n",
    "# Filter the columns to remove data we do not want \n",
    "columns = [c for c in columns if c not in [\"group\", \"timestamp\"]]\n",
    "# Store the variable we are predicting \n",
    "target = \"group\"\n",
    "# Define a random state \n",
    "state = np.random.RandomState(42)\n",
    "X = df_speed[columns]\n",
    "Y = df_speed[target]\n",
    "X_outliers = state.uniform(low=0, high=1, size=(X.shape[0], X.shape[1]))\n",
    "# Print the shapes of X & Y\n",
    "print(X.shape)\n",
    "print(Y.shape)\n"
   ]
  },
  {
   "cell_type": "markdown",
   "metadata": {},
   "source": [
    "The variable we are predicting (group) is Y and the speed is X."
   ]
  },
  {
   "cell_type": "markdown",
   "metadata": {},
   "source": [
    "# Model Prediction\n",
    "\n",
    "1) Isolation forest algorithm -  \n",
    "The algorithm is based on the fact that anomalies are data points that are few and different. As a result of these properties, anomalies are susceptible to a mechanism called isolation.\n",
    "\n",
    "2) Local Outlier Factor(LOF) Algorithm - The LOF algorithm is an unsupervised outlier detection method which computes the local density deviation of a given data point with respect to its neighbors.We calculate anomaly scores based on the neighbors. Isolation Factor isolates the observations by randomly selecting a feature and randomly selecting a split value between the maximum and minimum value of the selected feature.\n",
    "\n",
    "3) Support vector machines - one-class SVM could also be used in an unsupervised anomaly detection setup, where no prior training is conducted. Unfortunately, it turns out that a one-class SVM is sensitive to outliers in the data."
   ]
  },
  {
   "cell_type": "code",
   "execution_count": 185,
   "metadata": {},
   "outputs": [],
   "source": [
    "##Define the outlier detection methods\n",
    "\n",
    "dict_classifiers = {\n",
    "    \"Isolation Forest\":IsolationForest(n_estimators=100, max_samples=len(X), \n",
    "                                       contamination=speeding_fraction,random_state=1, verbose=0),\n",
    "    \n",
    "    \"Local Outlier Factor\":LocalOutlierFactor(n_neighbors=20, contamination=speeding_fraction),\n",
    "    \n",
    "    \"Support Vector Machine\":OneClassSVM(kernel='rbf', degree=3)\n",
    "   \n",
    "}"
   ]
  },
  {
   "cell_type": "code",
   "execution_count": 186,
   "metadata": {},
   "outputs": [
    {
     "data": {
      "text/plain": [
       "dict"
      ]
     },
     "execution_count": 186,
     "metadata": {},
     "output_type": "execute_result"
    }
   ],
   "source": [
    "type(classifiers)"
   ]
  },
  {
   "cell_type": "code",
   "execution_count": 187,
   "metadata": {},
   "outputs": [
    {
     "name": "stdout",
     "output_type": "stream",
     "text": [
      "Isolation Forest: 1094\n",
      "Accuracy Score :\n",
      "0.8213002286834368\n",
      "Classification Report :\n",
      "              precision    recall  f1-score   support\n",
      "\n",
      "           0       0.91      0.84      0.88      4637\n",
      "           1       0.61      0.75      0.67      1485\n",
      "\n",
      "    accuracy                           0.82      6122\n",
      "   macro avg       0.76      0.80      0.77      6122\n",
      "weighted avg       0.84      0.82      0.83      6122\n",
      "\n",
      "Local Outlier Factor: 1535\n",
      "Accuracy Score :\n",
      "0.749264946096047\n",
      "Classification Report :\n",
      "              precision    recall  f1-score   support\n",
      "\n",
      "           0       0.76      0.98      0.86      4637\n",
      "           1       0.31      0.03      0.05      1485\n",
      "\n",
      "    accuracy                           0.75      6122\n",
      "   macro avg       0.54      0.50      0.45      6122\n",
      "weighted avg       0.65      0.75      0.66      6122\n",
      "\n",
      "Support Vector Machine: 2434\n",
      "Accuracy Score :\n",
      "0.6024175106174453\n",
      "Classification Report :\n",
      "              precision    recall  f1-score   support\n",
      "\n",
      "           0       0.88      0.55      0.68      4637\n",
      "           1       0.35      0.76      0.48      1485\n",
      "\n",
      "    accuracy                           0.60      6122\n",
      "   macro avg       0.61      0.66      0.58      6122\n",
      "weighted avg       0.75      0.60      0.63      6122\n",
      "\n"
     ]
    }
   ],
   "source": [
    "n_outliers = len(speeding)\n",
    "for i, (clf_name,clf) in enumerate(classifiers.items()):\n",
    "    \n",
    "    #Fit the data and tag outliers\n",
    "    if clf_name == \"Local Outlier Factor\":\n",
    "        y_pred = clf.fit_predict(X)\n",
    "        scores_prediction = clf.negative_outlier_factor_\n",
    "    elif clf_name == \"Support Vector Machine\":\n",
    "        clf.fit(X)\n",
    "        y_pred = clf.predict(X)\n",
    "    else:    \n",
    "        clf.fit(X)\n",
    "        scores_prediction = clf.decision_function(X)\n",
    "        y_pred = clf.predict(X)\n",
    "        \n",
    "    #Reshape the prediction values to 0 for Valid transactions , 1 for speeding\n",
    "    y_pred[y_pred == 1] = 0\n",
    "    y_pred[y_pred == -1] = 1\n",
    "    n_errors = (y_pred != Y).sum()\n",
    "    \n",
    "    # Run Classification Metrics\n",
    "    print(\"{}: {}\".format(clf_name,n_errors))\n",
    "    print(\"Accuracy Score :\")\n",
    "    print(accuracy_score(Y,y_pred))\n",
    "    print(\"Classification Report :\")\n",
    "    print(classification_report(Y,y_pred))"
   ]
  },
  {
   "cell_type": "markdown",
   "metadata": {},
   "source": [
    "Higher accuracvy score corresponds to a better model. After trying three diffeent classifier models,we observe,\n",
    "\n",
    "1) Isolation forests detects 1094 errors with an accuracy of 82.13%\n",
    "2) Local Outlier Factor detects 1535 errors with an accuracy of 74.92%\n",
    "3) Support Vector Machine detects 2434 errors with an accuracy of 60.24%\n",
    "4) When comparing error, precision, accuracy score & recall for 3 models , the Isolation Forest performed much better than the LOF and SVM models"
   ]
  },
  {
   "cell_type": "code",
   "execution_count": null,
   "metadata": {},
   "outputs": [],
   "source": []
  }
 ],
 "metadata": {
  "kernelspec": {
   "display_name": "Python 3",
   "language": "python",
   "name": "python3"
  },
  "language_info": {
   "codemirror_mode": {
    "name": "ipython",
    "version": 3
   },
   "file_extension": ".py",
   "mimetype": "text/x-python",
   "name": "python",
   "nbconvert_exporter": "python",
   "pygments_lexer": "ipython3",
   "version": "3.7.6"
  }
 },
 "nbformat": 4,
 "nbformat_minor": 4
}
